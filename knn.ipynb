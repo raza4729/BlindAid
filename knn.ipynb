{
  "cells": [
    {
      "cell_type": "markdown",
      "metadata": {
        "id": "view-in-github",
        "colab_type": "text"
      },
      "source": [
        "<a href=\"https://colab.research.google.com/github/raza4729/BlindAid/blob/master/knn.ipynb\" target=\"_parent\"><img src=\"https://colab.research.google.com/assets/colab-badge.svg\" alt=\"Open In Colab\"/></a>"
      ]
    },
    {
      "cell_type": "markdown",
      "metadata": {
        "id": "mWHbUOIKK9ew"
      },
      "source": [
        "# Assignment 1: k-nearest neighbors (Programming) \n",
        "\n",
        "Only use the already imported libraries `numpy` and `matplotlib.pyplot` for the assignment. Do not import any other library. "
      ]
    },
    {
      "cell_type": "markdown",
      "metadata": {
        "id": "UPaI_xQeK9e5"
      },
      "source": [
        ""
      ]
    },
    {
      "cell_type": "code",
      "execution_count": 1,
      "metadata": {
        "id": "k8bqhFi9K9e6"
      },
      "outputs": [],
      "source": [
        "# Load required packages and dataset. Do not modify.\n",
        "import matplotlib.pyplot as plt\n",
        "import numpy as np\n",
        "from collections import Counter\n",
        "\n",
        "\n",
        "def load_breast_cancer_dataset():\n",
        "    from sklearn import datasets\n",
        "    breast_cancer = datasets.load_breast_cancer()\n",
        "    X = breast_cancer.data\n",
        "    y = breast_cancer.target\n",
        "    return X, y\n",
        "    \n",
        "X, y = load_breast_cancer_dataset()\n"
      ]
    },
    {
      "cell_type": "markdown",
      "metadata": {
        "id": "EZAMFxNVK9e-"
      },
      "source": [
        "## Task 1: Visualization and Preprocessing\n",
        "\n",
        "1) Explain the content of the dataset in few words. What are the input features? What is the classification target? Check out: https://archive.ics.uci.edu/ml/datasets/Breast+Cancer+Wisconsin+(Diagnostic)\n"
      ]
    },
    {
      "cell_type": "markdown",
      "metadata": {
        "id": "ADtcwPdmK9e_"
      },
      "source": [
        "==> *Write your response here.* (double klick here to edit)"
      ]
    },
    {
      "cell_type": "markdown",
      "metadata": {
        "id": "JFBuAT58K9fA"
      },
      "source": [
        "2) Compute and print the following statistics about the dataset:\n",
        "  - Number of samples\n",
        "  - Number of samples per class\n",
        "  - Mean and standard deviation for each input feature\n"
      ]
    },
    {
      "cell_type": "code",
      "execution_count": 2,
      "metadata": {
        "colab": {
          "base_uri": "https://localhost:8080/"
        },
        "id": "sQklBu0mK9fB",
        "outputId": "671371f5-88f4-47dc-ebf1-7f094fe842fe"
      },
      "outputs": [
        {
          "output_type": "execute_result",
          "data": {
            "text/plain": [
              "(569, 30)"
            ]
          },
          "metadata": {},
          "execution_count": 2
        }
      ],
      "source": [
        "# Number of samples\n",
        "X.shape"
      ]
    },
    {
      "cell_type": "code",
      "source": [
        "# Author: Erdem\n",
        "# Number of samples\n",
        "X.shape[0], len(X)"
      ],
      "metadata": {
        "colab": {
          "base_uri": "https://localhost:8080/"
        },
        "id": "U0AmtM_Yo8Tr",
        "outputId": "f33adc4b-74e6-48a6-b0fc-360c4f9fedbc"
      },
      "execution_count": 3,
      "outputs": [
        {
          "output_type": "execute_result",
          "data": {
            "text/plain": [
              "(569, 569)"
            ]
          },
          "metadata": {},
          "execution_count": 3
        }
      ]
    },
    {
      "cell_type": "code",
      "source": [
        "# Number of samples\n",
        "unique, counts = np.unique(y, return_counts=True)\n",
        "print(\"Classes : \", unique)\n",
        "print(\"Samples : \", counts)"
      ],
      "metadata": {
        "colab": {
          "base_uri": "https://localhost:8080/"
        },
        "id": "DeF5nUTwNo6j",
        "outputId": "dadcd4eb-4882-4f8d-a3ac-3e974848c32a"
      },
      "execution_count": 4,
      "outputs": [
        {
          "output_type": "stream",
          "name": "stdout",
          "text": [
            "Classes :  [0 1]\n",
            "Samples :  [212 357]\n"
          ]
        }
      ]
    },
    {
      "cell_type": "code",
      "source": [
        "# Mean for each input feature\n",
        "print(np.mean(X, axis=0))"
      ],
      "metadata": {
        "id": "ExBOr8PJQEYA",
        "colab": {
          "base_uri": "https://localhost:8080/"
        },
        "outputId": "21ceee23-1f23-435b-a41d-d2a7d8c95a23"
      },
      "execution_count": null,
      "outputs": [
        {
          "output_type": "stream",
          "name": "stdout",
          "text": [
            "[1.41272917e+01 1.92896485e+01 9.19690334e+01 6.54889104e+02\n",
            " 9.63602812e-02 1.04340984e-01 8.87993158e-02 4.89191459e-02\n",
            " 1.81161863e-01 6.27976098e-02 4.05172056e-01 1.21685343e+00\n",
            " 2.86605923e+00 4.03370791e+01 7.04097891e-03 2.54781388e-02\n",
            " 3.18937163e-02 1.17961371e-02 2.05422988e-02 3.79490387e-03\n",
            " 1.62691898e+01 2.56772232e+01 1.07261213e+02 8.80583128e+02\n",
            " 1.32368594e-01 2.54265044e-01 2.72188483e-01 1.14606223e-01\n",
            " 2.90075571e-01 8.39458172e-02]\n"
          ]
        }
      ]
    },
    {
      "cell_type": "code",
      "source": [
        "# standard deviation for each input feature\n",
        "print(np.std(X, axis=0))"
      ],
      "metadata": {
        "id": "dirgj7DjOwts",
        "colab": {
          "base_uri": "https://localhost:8080/"
        },
        "outputId": "c84c3dd6-e085-4cd4-b014-1ac72204622d"
      },
      "execution_count": 5,
      "outputs": [
        {
          "output_type": "stream",
          "name": "stdout",
          "text": [
            "[3.52095076e+00 4.29725464e+00 2.42776193e+01 3.51604754e+02\n",
            " 1.40517641e-02 5.27663291e-02 7.96497253e-02 3.87687325e-02\n",
            " 2.73901809e-02 7.05415588e-03 2.77068942e-01 5.51163427e-01\n",
            " 2.02007710e+00 4.54510134e+01 2.99987837e-03 1.78924359e-02\n",
            " 3.01595231e-02 6.16486075e-03 8.25910439e-03 2.64374475e-03\n",
            " 4.82899258e+00 6.14085432e+00 3.35730016e+01 5.68856459e+02\n",
            " 2.28123569e-02 1.57198171e-01 2.08440875e-01 6.56745545e-02\n",
            " 6.18130785e-02 1.80453893e-02]\n"
          ]
        }
      ]
    },
    {
      "cell_type": "markdown",
      "metadata": {
        "id": "KxZCI3Y2K9fC"
      },
      "source": [
        "3) Visualize the variables *radius (mean)* and *texture (mean)* in a scatter plot (*radius (mean)* on the x-axis, *texture (mean)* on the y-axis). Color each point of the plot according to its class."
      ]
    },
    {
      "cell_type": "code",
      "source": [
        "from sklearn import datasets\n",
        "breast_cancer = datasets.load_breast_cancer()\n",
        "breast_cancer.feature_names"
      ],
      "metadata": {
        "colab": {
          "base_uri": "https://localhost:8080/"
        },
        "id": "pDaiWg6qW3Zv",
        "outputId": "16b23d28-c209-43c5-dbd5-aac3fd94d1b5"
      },
      "execution_count": 6,
      "outputs": [
        {
          "output_type": "execute_result",
          "data": {
            "text/plain": [
              "array(['mean radius', 'mean texture', 'mean perimeter', 'mean area',\n",
              "       'mean smoothness', 'mean compactness', 'mean concavity',\n",
              "       'mean concave points', 'mean symmetry', 'mean fractal dimension',\n",
              "       'radius error', 'texture error', 'perimeter error', 'area error',\n",
              "       'smoothness error', 'compactness error', 'concavity error',\n",
              "       'concave points error', 'symmetry error',\n",
              "       'fractal dimension error', 'worst radius', 'worst texture',\n",
              "       'worst perimeter', 'worst area', 'worst smoothness',\n",
              "       'worst compactness', 'worst concavity', 'worst concave points',\n",
              "       'worst symmetry', 'worst fractal dimension'], dtype='<U23')"
            ]
          },
          "metadata": {},
          "execution_count": 6
        }
      ]
    },
    {
      "cell_type": "code",
      "execution_count": 7,
      "metadata": {
        "colab": {
          "base_uri": "https://localhost:8080/",
          "height": 295
        },
        "id": "YQjEKN7VK9fC",
        "outputId": "e81aedd0-abbc-4160-f8af-f0b57082064b"
      },
      "outputs": [
        {
          "output_type": "display_data",
          "data": {
            "text/plain": [
              "<Figure size 432x288 with 1 Axes>"
            ],
            "image/png": "[encoded data removed]"
          },
          "metadata": {
            "needs_background": "light"
          }
        }
      ],
      "source": [
        "# Implement your solution here.\n",
        "plt.scatter(X[:,[0]], X[:,[1]])\n",
        "plt.xlabel('radius (mean)')\n",
        "plt.ylabel('texture (mean)')\n",
        "plt.title('Scatter Plot')\n",
        "plt.show()"
      ]
    },
    {
      "cell_type": "markdown",
      "metadata": {
        "id": "XSuu80g7K9fD"
      },
      "source": [
        "4) Split the dataset randomly into training and test data. 70% of data should be used for training and 30% should be used for testing. Implement the function `train_test_split`. Do not modify the interface of the function."
      ]
    },
    {
      "cell_type": "code",
      "execution_count": 8,
      "metadata": {
        "scrolled": true,
        "id": "WXXWia3xK9fF"
      },
      "outputs": [],
      "source": [
        "def train_test_split(X, y):\n",
        "    \"\"\"\n",
        "    Returns X_train, X_test, y_train, y_test, \n",
        "        where X_train and X_test are the input features of the training and test set,\n",
        "        and y_train and y_test are the class labels of the training and test set.\n",
        "    \"\"\"\n",
        "    X_train, X_test = np.array_split(X,  [int(0.7 * X.shape[0])])\n",
        "    y_train, y_test = np.array_split(y,  [int(0.7 * len(y))])\n",
        "\n",
        "    return  X_train, X_test, y_train, y_test\n",
        "\n",
        "X_train, X_test, y_train, y_test = train_test_split(X, y)\n",
        "\n",
        "assert (X_train.shape[0] + X_test.shape[0]) == X.shape[0]\n",
        "assert (y_train.shape[0] + y_test.shape[0]) == y.shape[0]\n",
        "assert X_train.shape[1] == X_test.shape[1]"
      ]
    },
    {
      "cell_type": "markdown",
      "metadata": {
        "id": "dPr3xXTRK9fI"
      },
      "source": [
        "5) kNN uses a distance measure to identify close neighbors. If the input features are not of the same scale, the distance is not as meaningful, which can negatively impact classification performance. Perform min-max scaling (i.e. scale the values of the input features in such a way that their range is from 0 to 1) on the training and test data. Remember that you should only use information from the training data to perform the scaling on both data sets."
      ]
    },
    {
      "cell_type": "code",
      "execution_count": 10,
      "metadata": {
        "id": "Jr7Lmi5dK9fJ"
      },
      "outputs": [],
      "source": [
        "# Data Normalization\n",
        "def Normalization(X, min_, max_):\n",
        "    return (X - min_) / (max_ - min_)\n",
        "\n",
        "min_ = X_train.min()\n",
        "max_ = X_train.max()\n",
        "X_train = Normalization(X_train, min_, max_)\n",
        "X_test = Normalization(X_test, min_, max_)"
      ]
    },
    {
      "cell_type": "markdown",
      "metadata": {
        "id": "NGz3iocpK9fK"
      },
      "source": [
        "## Task 2: k-nearest neighbors \n",
        "*Choose classes randomly if weights are equal for multiple classes*\n",
        "\n",
        "**For B.Sc. Data Science:**  \n",
        "\n",
        "Implement the kNN algorithm with uniform weighting and arbitrary `k`. Fill out the `predict` method of class `KNearestNeighbors`. \n",
        "\n",
        "Use Euclidean distance to determine the nearest neighbors.\n",
        "You can ignore the optional parameter `weights`, which is provided as a field in the kNN class.\n",
        "\n",
        "**For all students other than B.Sc. Data Science:**\n",
        "\n",
        "Implement the kNN algorithm with uniform and distance-based weighting and arbitrary `k`.\n",
        "Fill out the `predict` method of class `KNearestNeighbors`.\n",
        "\n",
        "The parameter `weights` will either contain the string `uniform` or `distance`. \n",
        "- If the value is `uniform`, the classifier should use the Euclidean distance for determining nearest neighbors and uniform weighting. \n",
        "- If the value is a `distance`, the classifier should use the Euclidean distance for determining neares neighbors and perform distance-weighted classification."
      ]
    },
    {
      "cell_type": "code",
      "execution_count": 11,
      "metadata": {
        "id": "gxbl6fuFK9fN"
      },
      "outputs": [],
      "source": [
        "from numpy.ma.core import true_divide\n",
        "class KNearestNeighbors(object):\n",
        "    def __init__(self, k, weights='uniform'):\n",
        "        self.k = k\n",
        "        self.weights = weights\n",
        "        \n",
        "    def fit(self, X, y):\n",
        "        \"\"\"\n",
        "        This functions saves the training data to be used during the prediction.\n",
        "        \"\"\"\n",
        "        self.X = X\n",
        "        self.y = y\n",
        "    \n",
        "    def predict(self, X):\n",
        "        \"\"\"\n",
        "        Returns a vector of shape (n,) if X has shape (n,d), \n",
        "        where n is the number of samples and d is the number of features.\n",
        "        \"\"\"\n",
        "        # Array to store predicted labels\n",
        "        pred_labels = np.array([])\n",
        "        # Loop through the test samples to be classified\n",
        "        for i in range(X.shape[0]):\n",
        "\n",
        "          k_dist_idxs = 0\n",
        "\n",
        "          # Array to store distance values between samples\n",
        "          euc_dist = np.array([])\n",
        "\n",
        "          # Array to stores final decision set\n",
        "          pred_pool = np.array([])\n",
        "          \n",
        "          # Loop through the train samples to be calculated the euclidian distance between test and train sample\n",
        "          for j in range(self.X.shape[0]):\n",
        "\n",
        "            # Calculate the euclidean distance between test and train sample\n",
        "            # Append resultant value to the distance storage array\n",
        "            euc_dist = np.append(euc_dist, euclidean_distance(X[i], self.X[j]))\n",
        "          \n",
        "          # Sort the array while preserving the indexes to find out nearest neighbours\n",
        "          # Keep the first K neighbours\n",
        "          k_dist_idxs = euc_dist.argsort()[:self.k]\n",
        "          \n",
        "          pred_pool = np.append(pred_pool, self.y[k_dist_idxs])  \n",
        "\n",
        "          values, counts = np.unique(pred_pool, return_counts=True)\n",
        "\n",
        "          # condition if the weighing metric is distance\n",
        "          if self.weights == 'distance':\n",
        "            pool = zip(pred_pool, np.sort(euc_dist)[:self.k]) \n",
        "            pred_labels = np.append(pred_labels, weighted_distance(pool, self.y, self.k))\n",
        "\n",
        "          # condition if the weighing metric is uniform\n",
        "          else:  \n",
        "            majortity_class = np.argmax(counts) \n",
        "            \n",
        "            pred_labels = np.append(pred_labels, majortity_class)\n",
        "            \n",
        "          \n",
        "        return pred_labels\n",
        "\n",
        "    \n",
        "def euclidean_distance(x1, x2):\n",
        "    \"\"\"\n",
        "    Given vectors x1 and x2 with shape (n,) returns distance between vectors as float.\n",
        "    \"\"\"\n",
        "    return np.sqrt(np.sum((x1 - x2)*(x1 - x2)))\n",
        "\n",
        "def  weighted_distance(pred_pool, true_y, k=1):\n",
        "  \"\"\"\n",
        "  returns the label based on max inverse distance function.\n",
        "  The output will be class B.\n",
        "  \"\"\"\n",
        "\n",
        "  # count and extracts unique labels \n",
        "  true_labels, true_labels_counts = np.unique(true_y, return_counts=True)\n",
        "\n",
        "  # list to store weights for each label \n",
        "  weights = [0]*len(true_labels)\n",
        "\n",
        "  # looping through the true and predicted labels to calculate weights based on IDF\n",
        "  for pred in pred_pool:\n",
        "    \n",
        "    for true in true_labels:\n",
        "      \n",
        "      if pred[0] == true:\n",
        "        weights[true] = (weights[true] + 1) / pred[1]\n",
        "      \n",
        "  return weights.index(max(weights))\n"
      ]
    },
    {
      "cell_type": "code",
      "source": [
        "obj  = KNearestNeighbors(1, 'distance')  # Distance\n",
        "obj.fit(X_train, y_train)\n",
        "predict_distance = obj.predict(X_train)\n",
        "predict_distance"
      ],
      "metadata": {
        "id": "OaLAGblktyQm",
        "colab": {
          "base_uri": "https://localhost:8080/"
        },
        "outputId": "d64328b5-8221-4f2a-c797-413caed7609f"
      },
      "execution_count": 12,
      "outputs": [
        {
          "output_type": "stream",
          "name": "stderr",
          "text": [
            "/usr/local/lib/python3.7/dist-packages/ipykernel_launcher.py:86: RuntimeWarning: divide by zero encountered in double_scalars\n"
          ]
        },
        {
          "output_type": "execute_result",
          "data": {
            "text/plain": [
              "array([0., 0., 0., 0., 0., 0., 0., 0., 0., 0., 0., 0., 0., 0., 0., 0., 0.,\n",
              "       0., 0., 1., 1., 1., 0., 0., 0., 0., 0., 0., 0., 0., 0., 0., 0., 0.,\n",
              "       0., 0., 0., 1., 0., 0., 0., 0., 0., 0., 0., 0., 1., 0., 1., 1., 1.,\n",
              "       1., 1., 0., 0., 1., 0., 0., 1., 1., 1., 1., 0., 1., 0., 0., 1., 1.,\n",
              "       1., 1., 0., 1., 0., 0., 1., 0., 1., 0., 0., 1., 1., 1., 0., 0., 1.,\n",
              "       0., 0., 0., 1., 1., 1., 0., 1., 1., 0., 0., 1., 1., 1., 0., 0., 1.,\n",
              "       1., 1., 1., 0., 1., 1., 0., 1., 1., 1., 1., 1., 1., 1., 1., 0., 0.,\n",
              "       0., 1., 0., 0., 1., 1., 1., 0., 0., 1., 0., 1., 0., 0., 1., 0., 0.,\n",
              "       1., 1., 0., 1., 1., 0., 1., 1., 1., 1., 0., 1., 1., 1., 1., 1., 1.,\n",
              "       1., 1., 1., 0., 1., 1., 1., 1., 0., 0., 1., 0., 1., 1., 0., 0., 1.,\n",
              "       1., 0., 0., 1., 1., 1., 1., 0., 1., 1., 0., 0., 0., 1., 0., 1., 0.,\n",
              "       1., 1., 1., 0., 1., 1., 0., 0., 1., 0., 0., 0., 0., 1., 0., 0., 0.,\n",
              "       1., 0., 1., 0., 1., 1., 0., 1., 0., 0., 0., 0., 1., 1., 0., 0., 1.,\n",
              "       1., 1., 0., 1., 1., 1., 1., 1., 0., 0., 1., 1., 0., 1., 1., 0., 0.,\n",
              "       1., 0., 1., 1., 1., 1., 0., 1., 1., 1., 1., 1., 0., 1., 0., 0., 0.,\n",
              "       0., 0., 0., 0., 0., 0., 0., 0., 0., 0., 0., 1., 1., 1., 1., 1., 1.,\n",
              "       0., 1., 0., 1., 1., 0., 1., 1., 0., 1., 0., 0., 1., 1., 1., 1., 1.,\n",
              "       1., 1., 1., 1., 1., 1., 1., 1., 0., 1., 1., 0., 1., 0., 1., 1., 1.,\n",
              "       1., 1., 1., 1., 1., 1., 1., 1., 1., 1., 1., 0., 1., 1., 1., 0., 1.,\n",
              "       0., 1., 1., 1., 1., 0., 0., 0., 1., 1., 1., 1., 0., 1., 0., 1., 0.,\n",
              "       1., 1., 1., 0., 1., 1., 1., 1., 1., 1., 1., 0., 0., 0., 1., 1., 1.,\n",
              "       1., 1., 1., 1., 1., 1., 1., 1., 0., 0., 1., 0., 0., 0., 1., 0., 0.,\n",
              "       1., 1., 1., 1., 1., 0., 1., 1., 1., 1., 1., 0., 1., 1., 1., 0., 1.,\n",
              "       1., 0., 0., 1., 1., 1., 1.])"
            ]
          },
          "metadata": {},
          "execution_count": 12
        }
      ]
    },
    {
      "cell_type": "code",
      "source": [
        "obj  = KNearestNeighbors(1, 'unifrom')  # Uniform\n",
        "obj.fit(X_train, y_train)\n",
        "predict_uniform = obj.predict(X_test)\n",
        "predict_uniform"
      ],
      "metadata": {
        "id": "Uv7esDcTYbPB",
        "colab": {
          "base_uri": "https://localhost:8080/"
        },
        "outputId": "a84ebdda-f9cf-4bb3-b960-0f210fa48cd0"
      },
      "execution_count": 13,
      "outputs": [
        {
          "output_type": "execute_result",
          "data": {
            "text/plain": [
              "array([0., 0., 0., 0., 0., 0., 0., 0., 0., 0., 0., 0., 0., 0., 0., 0., 0.,\n",
              "       0., 0., 0., 0., 0., 0., 0., 0., 0., 0., 0., 0., 0., 0., 0., 0., 0.,\n",
              "       0., 0., 0., 0., 0., 0., 0., 0., 0., 0., 0., 0., 0., 0., 0., 0., 0.,\n",
              "       0., 0., 0., 0., 0., 0., 0., 0., 0., 0., 0., 0., 0., 0., 0., 0., 0.,\n",
              "       0., 0., 0., 0., 0., 0., 0., 0., 0., 0., 0., 0., 0., 0., 0., 0., 0.,\n",
              "       0., 0., 0., 0., 0., 0., 0., 0., 0., 0., 0., 0., 0., 0., 0., 0., 0.,\n",
              "       0., 0., 0., 0., 0., 0., 0., 0., 0., 0., 0., 0., 0., 0., 0., 0., 0.,\n",
              "       0., 0., 0., 0., 0., 0., 0., 0., 0., 0., 0., 0., 0., 0., 0., 0., 0.,\n",
              "       0., 0., 0., 0., 0., 0., 0., 0., 0., 0., 0., 0., 0., 0., 0., 0., 0.,\n",
              "       0., 0., 0., 0., 0., 0., 0., 0., 0., 0., 0., 0., 0., 0., 0., 0., 0.,\n",
              "       0.])"
            ]
          },
          "metadata": {},
          "execution_count": 13
        }
      ]
    },
    {
      "cell_type": "code",
      "source": [
        "# For test purposes\n",
        "from sklearn.neighbors import KNeighborsClassifier\n",
        "from sklearn.metrics import classification_report\n",
        "from sklearn.metrics import confusion_matrix\n",
        "\n",
        "knn = KNeighborsClassifier(n_neighbors=9, weights='uniform')\n",
        "knn.fit(X_train, y_train)  # Fit the model\n",
        "knn_score = knn.score(X_test, y_test)\n",
        "y_pred = knn.predict(X_train)  # Predict\n",
        "\n",
        "print(\"\\nTest accuracy: %.4f\" % knn_score )\n",
        "print(\"\\nConfusion matrix: \", confusion_matrix(y_test, predict_uniform))\n",
        "print(\"\\nClassification report: \", classification_report(y_test, predict_uniform))\n",
        "predict_uniform"
      ],
      "metadata": {
        "id": "jEZzUxPjZrc_"
      },
      "execution_count": null,
      "outputs": []
    },
    {
      "cell_type": "markdown",
      "metadata": {
        "id": "Ldxd7Lo2K9fO"
      },
      "source": [
        "## Task 3: Evaluation\n",
        "\n",
        "1) Implement functions to compute precision, recall and F1-score. `y_pred` and `y_true` are the vectors of predicted and true class labels respectively with shape `(n,)`, where `n` is the number of samples. Each function should return a float containing the corresponding score. It is advisable to implement a function for the confusion matrix and reuse it."
      ]
    },
    {
      "cell_type": "code",
      "source": [
        "# Author: Ali\n",
        "def confusion_matrix(y_true, predictions):\n",
        "  tp = fp = fn = tn = 0\n",
        "\n",
        "  for true, pred in zip(y_true, predictions):\n",
        "    if true == 1 and  pred == 1:\n",
        "      tp = tp + 1\n",
        "    if true == 0 and pred == 1:\n",
        "      fp = fp + 1\n",
        "    if true == 1 and pred == 0:\n",
        "      fn = fn + 1\n",
        "    if true == 0 and pred == 0: \n",
        "      tn = tn + 1\n",
        "\n",
        "  return tp, fp, fn, tn\n",
        "\n",
        "\n",
        "def precision(y_pred, y_true):\n",
        "\n",
        "    tp, fp, fn, tn = confusion_matrix(y_true, y_pred)\n",
        "    # print(tp, fp, fn, tn)\n",
        "    return tp / (tp + fp) if (tp + fp) != 0 else 0 \n",
        "\n",
        "def recall(y_pred, y_true):\n",
        "\n",
        "    tp, fp, fn, tn = confusion_matrix(y_true, y_pred)\n",
        "    return tp / (tp + fn) if (tp + fp) != 0 else 0\n",
        "\n",
        "def f1score(y_pred, y_true):\n",
        "\n",
        "    r = recall(y_pred, y_true)\n",
        "    p = precision(y_pred, y_true)\n",
        "    return (2 * (p * r)) / (p + r) if p !=0 and r != 0 else 0\n",
        "\n",
        "print(confusion_matrix(y_train, predict_uniform))\n",
        "print(\"Precision, \", \"Recall, \", \"F1-score\")\n",
        "precision(predict_uniform, y_test), recall(predict_uniform, y_test), f1score(predict_uniform, y_test)\n",
        "# precision(predictions_uniform, y_test), recall(predictions_uniform, y_test), f1score(predictions_uniform, y_test)"
      ],
      "metadata": {
        "colab": {
          "base_uri": "https://localhost:8080/"
        },
        "id": "NFs7rNSvxPQn",
        "outputId": "ac1927b1-74c9-4535-b53f-fe8d8fa86268"
      },
      "execution_count": 15,
      "outputs": [
        {
          "output_type": "stream",
          "name": "stdout",
          "text": [
            "(0, 0, 82, 89)\n",
            "Precision,  Recall,  F1-score\n"
          ]
        },
        {
          "output_type": "execute_result",
          "data": {
            "text/plain": [
              "(0, 0, 0)"
            ]
          },
          "metadata": {},
          "execution_count": 15
        }
      ]
    },
    {
      "cell_type": "markdown",
      "metadata": {
        "id": "czAnrHgSK9fQ"
      },
      "source": [
        "2) Evaluate the performance of kNN with uniform weighting on the Breast Cancer dataset for `k=1,5,9`. Train each of the `3` classifiers on the training data from Task 1. Perform the predictions on both the training and test data. Then compute precision, recall, and F1-score for each model and for both training and test data. Visualize the performance in a plot, what do you observe?\n",
        "\n",
        "**For all students other than B.Sc. Data Science:** \n",
        "\n",
        "Also evaluate the kNN classifier with Euclidean distance-weighting. Compare the performance to uniform-weighting. How does the performance change compared to uniform weighting for each `k`?"
      ]
    },
    {
      "cell_type": "code",
      "source": [
        "obj  = KNearestNeighbors(1)\n",
        "obj.fit(X_train, y_train)\n",
        "train_predictions_uniform = obj.predict(X_train)\n",
        "\n",
        "obj  = KNearestNeighbors(5)\n",
        "obj.fit(X_train, y_train)\n",
        "train_predictions_uniform_k5 = obj.predict(X_train)\n",
        "\n",
        "obj  = KNearestNeighbors(9)\n",
        "obj.fit(X_train, y_train)\n",
        "train_predictions__uniform_k9 = obj.predict(X_train)\n",
        "\n",
        "obj  = KNearestNeighbors(1, 'distance')\n",
        "obj.fit(X_train, y_train)\n",
        "train_predictions_distance = obj.predict(X_train)\n",
        "\n",
        "obj  = KNearestNeighbors(5, 'distance')\n",
        "obj.fit(X_train, y_train)\n",
        "train_predictions_distance_k5 = obj.predict(X_train)\n",
        "\n",
        "obj  = KNearestNeighbors(9, 'distance')\n",
        "obj.fit(X_train, y_train)\n",
        "train_predictions_distance_k9 = obj.predict(X_train)"
      ],
      "metadata": {
        "colab": {
          "base_uri": "https://localhost:8080/"
        },
        "id": "PbxIZFL3T4N4",
        "outputId": "e235ac10-ddd6-4c32-a4af-2adc1fdabbb9"
      },
      "execution_count": 16,
      "outputs": [
        {
          "output_type": "stream",
          "name": "stderr",
          "text": [
            "/usr/local/lib/python3.7/dist-packages/ipykernel_launcher.py:86: RuntimeWarning: divide by zero encountered in double_scalars\n"
          ]
        }
      ]
    },
    {
      "cell_type": "code",
      "source": [
        "print(\"************* Evaluation results for Uniform weighting *************\")\n",
        "print(\"\\nEvaluatiion part k = 1\")\n",
        "print(\"Precision, \", \"Recall, \", \"F1-score\")\n",
        "print(precision(train_predictions_uniform, y_train), recall(train_predictions_uniform, y_train), f1score(train_predictions_uniform, y_train))\n",
        "\n",
        "print(\"\\nEvaluatiion part k = 5\")\n",
        "print(\"Precision, \", \"Recall, \", \"F1-score\")\n",
        "print(precision(train_predictions_uniform_k5, y_train), recall(train_predictions_uniform_k5, y_train), f1score(train_predictions_uniform_k5, y_train))\n",
        "\n",
        "print(\"\\nEvaluatiion part k = 9\")\n",
        "print(\"Precision, \", \"Recall, \", \"F1-score\")\n",
        "print(precision(train_predictions__uniform_k9, y_train), recall(train_predictions__uniform_k9, y_train), f1score(train_predictions__uniform_k9, y_train))"
      ],
      "metadata": {
        "colab": {
          "base_uri": "https://localhost:8080/"
        },
        "id": "w7Kh-EMUUIff",
        "outputId": "753b4847-487e-441b-cbc9-6b46d5dadeb1"
      },
      "execution_count": 17,
      "outputs": [
        {
          "output_type": "stream",
          "name": "stdout",
          "text": [
            "************* Evaluation results for Uniform weighting *************\n",
            "\n",
            "Evaluatiion part k = 1\n",
            "Precision,  Recall,  F1-score\n",
            "0 0 0\n",
            "\n",
            "Evaluatiion part k = 5\n",
            "Precision,  Recall,  F1-score\n",
            "0.6216216216216216 0.10222222222222223 0.17557251908396948\n",
            "\n",
            "Evaluatiion part k = 9\n",
            "Precision,  Recall,  F1-score\n",
            "0.7333333333333333 0.19555555555555557 0.3087719298245614\n"
          ]
        }
      ]
    },
    {
      "cell_type": "code",
      "source": [
        "print(\"************* Evaluation results for distance weighting *************\")\n",
        "print(\"\\nEvaluatiion part k = 1\")\n",
        "print(\"Precision, \", \"Recall, \", \"F1-score\")\n",
        "print(precision(train_predictions_distance, y_train), recall(train_predictions_distance, y_train), f1score(train_predictions_distance, y_train))\n",
        "\n",
        "print(\"\\nEvaluatiion part k = 5\")\n",
        "print(\"Precision, \", \"Recall, \", \"F1-score\")\n",
        "print(precision(train_predictions_distance_k5, y_train), recall(train_predictions_distance_k5, y_train), f1score(train_predictions_distance_k5, y_train))\n",
        "\n",
        "print(\"\\nEvaluatiion part k = 9\")\n",
        "print(\"Precision, \", \"Recall, \", \"F1-score\")\n",
        "print(precision(train_predictions_distance_k9, y_train), recall(train_predictions_distance_k9, y_train), f1score(train_predictions_distance_k9, y_train))"
      ],
      "metadata": {
        "colab": {
          "base_uri": "https://localhost:8080/"
        },
        "id": "R5T1f7MLU6Hd",
        "outputId": "fb74066c-2cf2-4f7e-d331-a09e36932f0d"
      },
      "execution_count": 18,
      "outputs": [
        {
          "output_type": "stream",
          "name": "stdout",
          "text": [
            "************* Evaluation results for distance weighting *************\n",
            "\n",
            "Evaluatiion part k = 1\n",
            "Precision,  Recall,  F1-score\n",
            "1.0 1.0 1.0\n",
            "\n",
            "Evaluatiion part k = 5\n",
            "Precision,  Recall,  F1-score\n",
            "1.0 1.0 1.0\n",
            "\n",
            "Evaluatiion part k = 9\n",
            "Precision,  Recall,  F1-score\n",
            "1.0 1.0 1.0\n"
          ]
        }
      ]
    },
    {
      "cell_type": "code",
      "execution_count": 19,
      "metadata": {
        "id": "m3L-m0R5K9fQ"
      },
      "outputs": [],
      "source": [
        "obj  = KNearestNeighbors(1)\n",
        "obj.fit(X_train, y_train)\n",
        "predictions_uniform = obj.predict(X_test)\n",
        "\n",
        "obj  = KNearestNeighbors(5)\n",
        "obj.fit(X_train, y_train)\n",
        "predictions_uniform_k5 = obj.predict(X_test)\n",
        "\n",
        "obj  = KNearestNeighbors(9)\n",
        "obj.fit(X_train, y_train)\n",
        "predictions__uniform_k9 = obj.predict(X_test)\n",
        "\n",
        "obj  = KNearestNeighbors(1, 'distance')\n",
        "obj.fit(X_train, y_train)\n",
        "predictions_distance = obj.predict(X_test)\n",
        "\n",
        "obj  = KNearestNeighbors(5, 'distance')\n",
        "obj.fit(X_train, y_train)\n",
        "predictions_distance_k5 = obj.predict(X_test)\n",
        "\n",
        "obj  = KNearestNeighbors(9, 'distance')\n",
        "obj.fit(X_train, y_train)\n",
        "predictions__distance_k9 = obj.predict(X_test)"
      ]
    },
    {
      "cell_type": "code",
      "source": [
        "print(\"************* Evaluation results for Uniform weighting *************\")\n",
        "print(\"\\nEvaluatiion part k = 1\")\n",
        "print(\"Precision, \", \"Recall, \", \"F1-score\")\n",
        "print(precision(predictions_uniform, y_test), recall(predictions_uniform, y_test), f1score(predictions_uniform, y_test))\n",
        "\n",
        "print(\"\\nEvaluatiion part k = 5\")\n",
        "print(\"Precision, \", \"Recall, \", \"F1-score\")\n",
        "print(precision(predictions_uniform_k5, y_test), recall(predictions_uniform_k5, y_test), f1score(predictions_uniform_k5, y_test))\n",
        "\n",
        "print(\"\\nEvaluatiion part k = 9\")\n",
        "print(\"Precision, \", \"Recall, \", \"F1-score\")\n",
        "print(precision(predictions__uniform_k9, y_test), recall(predictions__uniform_k9, y_test), f1score(predictions__uniform_k9, y_test))"
      ],
      "metadata": {
        "colab": {
          "base_uri": "https://localhost:8080/"
        },
        "id": "hyjC-TuslL7R",
        "outputId": "6d685977-d266-4f42-f1e9-e943d20fe33e"
      },
      "execution_count": 20,
      "outputs": [
        {
          "output_type": "stream",
          "name": "stdout",
          "text": [
            "************* Evaluation results for Uniform weighting *************\n",
            "\n",
            "Evaluatiion part k = 1\n",
            "Precision,  Recall,  F1-score\n",
            "0 0 0\n",
            "\n",
            "Evaluatiion part k = 5\n",
            "Precision,  Recall,  F1-score\n",
            "1.0 0.2196969696969697 0.36024844720496896\n",
            "\n",
            "Evaluatiion part k = 9\n",
            "Precision,  Recall,  F1-score\n",
            "0.9534883720930233 0.3106060606060606 0.4685714285714285\n"
          ]
        }
      ]
    },
    {
      "cell_type": "code",
      "source": [
        "print(\"************* Evaluation results for distance based weighting *************\")\n",
        "print(\"\\nEvaluatiion part k = 1\")\n",
        "print(\"Precision, \", \"Recall, \", \"F1-score\")\n",
        "print(precision(predictions_distance, y_test), recall(predictions_distance, y_test), f1score(predictions_distance, y_test))\n",
        "\n",
        "print(\"\\nEvaluatiion part k = 5\")\n",
        "print(\"Precision, \", \"Recall, \", \"F1-score\")\n",
        "print(precision(predictions_distance_k5, y_test), recall(predictions_distance_k5, y_test), f1score(predictions_distance_k5, y_test))\n",
        "\n",
        "print(\"\\nEvaluatiion part k = 9\")\n",
        "print(\"Precision, \", \"Recall, \", \"F1-score\")\n",
        "print(precision(predictions__distance_k9, y_test), recall(predictions__distance_k9, y_test), f1score(predictions__distance_k9, y_test))"
      ],
      "metadata": {
        "colab": {
          "base_uri": "https://localhost:8080/"
        },
        "id": "28C2AvqpXsQu",
        "outputId": "821ee23f-be49-4ffe-856f-93c5918ca20b"
      },
      "execution_count": 21,
      "outputs": [
        {
          "output_type": "stream",
          "name": "stdout",
          "text": [
            "************* Evaluation results for distance based weighting *************\n",
            "\n",
            "Evaluatiion part k = 1\n",
            "Precision,  Recall,  F1-score\n",
            "0.9682539682539683 0.9242424242424242 0.9457364341085271\n",
            "\n",
            "Evaluatiion part k = 5\n",
            "Precision,  Recall,  F1-score\n",
            "0.984 0.9318181818181818 0.9571984435797666\n",
            "\n",
            "Evaluatiion part k = 9\n",
            "Precision,  Recall,  F1-score\n",
            "0.984251968503937 0.946969696969697 0.9652509652509653\n"
          ]
        }
      ]
    },
    {
      "cell_type": "markdown",
      "metadata": {
        "id": "VyxyoBdTK9fR"
      },
      "source": [
        "## Observations\n",
        "### With Uniform weighting\n",
        "\n",
        "* The voting method is misleading as we can see in the training part distance based metric is performing really well then `uniform distribution`. \n",
        "\n",
        "* Additinally, we are also unaware of the fact (domain knowledge!) about features in the data-set.\n",
        "\n",
        "* But the question is why it is performing worse with `k=1`\n",
        "\n",
        "### With distance weighting\n",
        "\n",
        "* whereas in `distance based` weighting the perfomance of the model has shown gradul increament in the recall as well as precision! \n",
        "\n",
        "* Our model is outperforming the `sklearn` KNN model xD"
      ]
    },
    {
      "cell_type": "code",
      "source": [
        "# import Matplotlib (scientific plotting library)\n",
        "import matplotlib.pyplot as plt\n",
        "\n",
        "# allow plots to appear within the notebook\n",
        "%matplotlib inline\n",
        "\n",
        "k_range = range(1, 9)\n",
        "\n",
        "# We can create Python dictionary using [] or dict()\n",
        "scores = []\n",
        "\n",
        "# We use a loop through the range 1 to 26\n",
        "# We append the scores in the dictionary\n",
        "for k in k_range:\n",
        "    obj  = KNearestNeighbors(k)\n",
        "    obj.fit(X_train, y_train)\n",
        "    predictions_uniform = obj.predict(X_test)\n",
        "    scores.append(precision(predictions_uniform, y_test))\n",
        "\n",
        "# plot the relationship between K and testing accuracy\n",
        "# plt.plot(x_axis, y_axis)\n",
        "plt.plot(k_range, scores)\n",
        "plt.xlabel('Value of K for KNN')\n",
        "plt.ylabel('Testing Precision')"
      ],
      "metadata": {
        "id": "8J637NA_mApx",
        "colab": {
          "base_uri": "https://localhost:8080/",
          "height": 296
        },
        "outputId": "62355d90-edae-4532-d291-8f721ea2f456"
      },
      "execution_count": 22,
      "outputs": [
        {
          "output_type": "execute_result",
          "data": {
            "text/plain": [
              "Text(0, 0.5, 'Testing Precision')"
            ]
          },
          "metadata": {},
          "execution_count": 22
        },
        {
          "output_type": "display_data",
          "data": {
            "text/plain": [
              "<Figure size 432x288 with 1 Axes>"
            ],
            "image/png": "[encoded data removed]"
          },
          "metadata": {
            "needs_background": "light"
          }
        }
      ]
    },
    {
      "cell_type": "code",
      "source": [
        "# We can create Python dictionary using [] or dict()\n",
        "scores = []\n",
        "\n",
        "# We use a loop through the range 1 to 26\n",
        "# We append the scores in the dictionary\n",
        "for k in k_range:\n",
        "    obj  = KNearestNeighbors(k)\n",
        "    obj.fit(X_train, y_train)\n",
        "    predictions_uniform = obj.predict(X_test)\n",
        "    scores.append(recall(predictions_uniform, y_test))\n",
        "\n",
        "# plot the relationship between K and testing accuracy\n",
        "# plt.plot(x_axis, y_axis)\n",
        "plt.plot(k_range, scores)\n",
        "plt.xlabel('Value of K for KNN')\n",
        "plt.ylabel('Testing Recall')"
      ],
      "metadata": {
        "colab": {
          "base_uri": "https://localhost:8080/",
          "height": 296
        },
        "id": "FsBvMWach--p",
        "outputId": "c972978a-7098-4e7b-ffcc-fd9346dbaae4"
      },
      "execution_count": null,
      "outputs": [
        {
          "output_type": "execute_result",
          "data": {
            "text/plain": [
              "Text(0, 0.5, 'Testing Recall')"
            ]
          },
          "metadata": {},
          "execution_count": 105
        },
        {
          "output_type": "display_data",
          "data": {
            "text/plain": [
              "<Figure size 432x288 with 1 Axes>"
            ],
            "image/png": "[encoded data removed]"
          },
          "metadata": {
            "needs_background": "light"
          }
        }
      ]
    },
    {
      "cell_type": "code",
      "source": [
        "# We can create Python dictionary using [] or dict()\n",
        "scores = []\n",
        "\n",
        "# We use a loop through the range 1 to 26\n",
        "# We append the scores in the dictionary\n",
        "for k in k_range:\n",
        "    obj  = KNearestNeighbors(k, 'distance')\n",
        "    obj.fit(X_train, y_train)\n",
        "    predictions_distance = obj.predict(X_test)\n",
        "    scores.append(precision(predictions_distance, y_test))\n",
        "\n",
        "# plot the relationship between K and testing accuracy\n",
        "# plt.plot(x_axis, y_axis)\n",
        "plt.plot(k_range, scores)\n",
        "plt.xlabel('Value of K for KNN')\n",
        "plt.ylabel('Testing Precision')"
      ],
      "metadata": {
        "colab": {
          "base_uri": "https://localhost:8080/",
          "height": 296
        },
        "id": "LCIQZT-SjD8A",
        "outputId": "51aa713c-4f9a-46c2-c241-11adc2cd0f3a"
      },
      "execution_count": null,
      "outputs": [
        {
          "output_type": "execute_result",
          "data": {
            "text/plain": [
              "Text(0, 0.5, 'Testing Precision')"
            ]
          },
          "metadata": {},
          "execution_count": 106
        },
        {
          "output_type": "display_data",
          "data": {
            "text/plain": [
              "<Figure size 432x288 with 1 Axes>"
            ],
            "image/png": "[encoded data removed]"
          },
          "metadata": {
            "needs_background": "light"
          }
        }
      ]
    },
    {
      "cell_type": "code",
      "source": [
        "# We can create Python dictionary using [] or dict()\n",
        "scores = []\n",
        "\n",
        "# We use a loop through the range 1 to 26\n",
        "# We append the scores in the dictionary\n",
        "for k in k_range:\n",
        "    obj  = KNearestNeighbors(k, 'distance')\n",
        "    obj.fit(X_train, y_train)\n",
        "    predictions_distance = obj.predict(X_test)\n",
        "    scores.append(recall(predictions_distance, y_test))\n",
        "\n",
        "# plot the relationship between K and testing accuracy\n",
        "# plt.plot(x_axis, y_axis)\n",
        "plt.plot(k_range, scores)\n",
        "plt.xlabel('Value of K for KNN')\n",
        "plt.ylabel('Testing Recall')"
      ],
      "metadata": {
        "colab": {
          "base_uri": "https://localhost:8080/",
          "height": 296
        },
        "id": "sZsiV7ldjl9j",
        "outputId": "0268159b-542b-40b0-8421-ea76d43a9e83"
      },
      "execution_count": null,
      "outputs": [
        {
          "output_type": "execute_result",
          "data": {
            "text/plain": [
              "Text(0, 0.5, 'Testing Recall')"
            ]
          },
          "metadata": {},
          "execution_count": 107
        },
        {
          "output_type": "display_data",
          "data": {
            "text/plain": [
              "<Figure size 432x288 with 1 Axes>"
            ],
            "image/png": "[encoded data removed]"
          },
          "metadata": {
            "needs_background": "light"
          }
        }
      ]
    }
  ],
  "metadata": {
    "kernelspec": {
      "display_name": "Python 3",
      "language": "python",
      "name": "python3"
    },
    "language_info": {
      "codemirror_mode": {
        "name": "ipython",
        "version": 3
      },
      "file_extension": ".py",
      "mimetype": "text/x-python",
      "name": "python",
      "nbconvert_exporter": "python",
      "pygments_lexer": "ipython3",
      "version": "3.8.3"
    },
    "colab": {
      "name": "assignment1_knn.ipynb",
      "provenance": [],
      "collapsed_sections": [],
      "include_colab_link": true
    }
  },
  "nbformat": 4,
  "nbformat_minor": 0
}